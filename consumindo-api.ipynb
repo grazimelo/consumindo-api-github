{
 "cells": [
  {
   "cell_type": "markdown",
   "metadata": {},
   "source": [
    "## Consumindo API GitHub"
   ]
  },
  {
   "cell_type": "code",
   "execution_count": 6,
   "metadata": {},
   "outputs": [],
   "source": [
    "#Importanto blibliotecas uteis\n",
    "import requests"
   ]
  },
  {
   "cell_type": "code",
   "execution_count": 7,
   "metadata": {},
   "outputs": [
    {
     "name": "stdout",
     "output_type": "stream",
     "text": [
      "1 An-lises_acidentes_2019\n",
      "2 banco-psql\n",
      "3 Codenation\n",
      "4 consumindo-api-github\n",
      "5 django-simples\n",
      "6 grazimelo.github.io\n",
      "7 heroku-app-acidentes\n",
      "8 HRtech_analysis\n",
      "9 jobs-datascience\n",
      "10 teoSQL\n"
     ]
    }
   ],
   "source": [
    "class ListaDeRepositorios():\n",
    "\n",
    "    def __init__(self, usuario):\n",
    "        self.usuario = usuario\n",
    "\n",
    "    def requisicao_api(self):\n",
    "        resposta = requests.get(f'https://api.github.com/users/{self.usuario}/repos')\n",
    "        if resposta.status_code == 200:\n",
    "            return resposta.json()\n",
    "        return []\n",
    "\n",
    "    def lista_repositorios(self):\n",
    "        dados_api = self.requisicao_api()\n",
    "        if dados_api:\n",
    "            for i, item in enumerate(dados_api, 1):\n",
    "                print(i, item.get('name'))\n",
    "\n",
    "\n",
    "if __name__ == '__main__':\n",
    "    repositorio_to_list = ListaDeRepositorios('grazimelo')\n",
    "    repositorio_to_list.lista_repositorios()\n"
   ]
  }
 ],
 "metadata": {
  "kernelspec": {
   "display_name": "Python 3",
   "language": "python",
   "name": "python3"
  },
  "language_info": {
   "codemirror_mode": {
    "name": "ipython",
    "version": 3
   },
   "file_extension": ".py",
   "mimetype": "text/x-python",
   "name": "python",
   "nbconvert_exporter": "python",
   "pygments_lexer": "ipython3",
   "version": "3.8.2"
  }
 },
 "nbformat": 4,
 "nbformat_minor": 4
}
