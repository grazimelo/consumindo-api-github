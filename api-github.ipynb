{
 "cells": [
  {
   "cell_type": "markdown",
   "metadata": {},
   "source": [
    "# Consumo de API - GitHub"
   ]
  },
  {
   "cell_type": "code",
   "execution_count": 1,
   "metadata": {
    "ExecuteTime": {
     "end_time": "2020-11-01T21:10:29.747586Z",
     "start_time": "2020-11-01T21:10:29.525234Z"
    }
   },
   "outputs": [],
   "source": [
    "import pandas as pd\n",
    "import requests\n",
    "import json"
   ]
  },
  {
   "cell_type": "code",
   "execution_count": 2,
   "metadata": {
    "ExecuteTime": {
     "end_time": "2020-11-01T21:10:32.278297Z",
     "start_time": "2020-11-01T21:10:30.186521Z"
    }
   },
   "outputs": [
    {
     "name": "stdout",
     "output_type": "stream",
     "text": [
      "An-lises_acidentes_2019\n",
      "banco-psql\n",
      "Codenation\n",
      "consumindo-api-github\n",
      "django-simples\n",
      "grazimelo.github.io\n",
      "heroku-app-acidentes\n",
      "HRtech_analysis\n",
      "jobs-datascience\n",
      "teoSQL\n"
     ]
    }
   ],
   "source": [
    "class ListaDeRepositorios():\n",
    "\n",
    "    def __init__(self, usuario):\n",
    "        self._usuario = usuario\n",
    "\n",
    "    def requisicao_api(self):\n",
    "        resposta = requests.get(f'https://api.github.com/users/grazimelo/repos')\n",
    "        if resposta.status_code == 200:\n",
    "            return resposta.json()\n",
    "        else:\n",
    "            return resposta.status_code\n",
    "\n",
    "    def lista_repositorios(self):\n",
    "        dados_api = self.requisicao_api()\n",
    "        if type(dados_api) is not int:\n",
    "            for i in range(len(dados_api)):\n",
    "                print(dados_api[i]['name'])\n",
    "        else:\n",
    "            print(dados_api)\n",
    "\n",
    "\n",
    "repositorio_to_list = ListaDeRepositorios('grazimelo')\n",
    "repositorio_to_list.lista_repositorios()"
   ]
  }
 ],
 "metadata": {
  "kernelspec": {
   "display_name": "Python 3",
   "language": "python",
   "name": "python3"
  },
  "language_info": {
   "codemirror_mode": {
    "name": "ipython",
    "version": 3
   },
   "file_extension": ".py",
   "mimetype": "text/x-python",
   "name": "python",
   "nbconvert_exporter": "python",
   "pygments_lexer": "ipython3",
   "version": "3.8.3"
  },
  "toc": {
   "base_numbering": 1,
   "nav_menu": {},
   "number_sections": true,
   "sideBar": true,
   "skip_h1_title": false,
   "title_cell": "Table of Contents",
   "title_sidebar": "Contents",
   "toc_cell": false,
   "toc_position": {},
   "toc_section_display": true,
   "toc_window_display": false
  },
  "varInspector": {
   "cols": {
    "lenName": 16,
    "lenType": 16,
    "lenVar": 40
   },
   "kernels_config": {
    "python": {
     "delete_cmd_postfix": "",
     "delete_cmd_prefix": "del ",
     "library": "var_list.py",
     "varRefreshCmd": "print(var_dic_list())"
    },
    "r": {
     "delete_cmd_postfix": ") ",
     "delete_cmd_prefix": "rm(",
     "library": "var_list.r",
     "varRefreshCmd": "cat(var_dic_list()) "
    }
   },
   "types_to_exclude": [
    "module",
    "function",
    "builtin_function_or_method",
    "instance",
    "_Feature"
   ],
   "window_display": false
  }
 },
 "nbformat": 4,
 "nbformat_minor": 4
}
